{
 "metadata": {
  "language_info": {
   "codemirror_mode": {
    "name": "ipython",
    "version": 3
   },
   "file_extension": ".py",
   "mimetype": "text/x-python",
   "name": "python",
   "nbconvert_exporter": "python",
   "pygments_lexer": "ipython3",
   "version": "3.8.9"
  },
  "orig_nbformat": 2,
  "kernelspec": {
   "name": "python389jvsc74a57bd09b4fb892ac74e3dffeb62a7e12a220c1981be2dda42ed6f2ce34a684350f6a35",
   "display_name": "Python 3.8.9 64-bit ('3.8.9': pyenv)"
  }
 },
 "nbformat": 4,
 "nbformat_minor": 2,
 "cells": [
  {
   "source": [
    "# ランダムネットワークにおける部分ネットワークの出現頻度の理論推定\n",
    "理論に基づいて，ランダムネットワークにおける部分ネットワークの出現頻度の推定を近似式から推定します。\n",
    "\n",
    "Itzkovitz S, Milo R, Kashtan N, Ziv G and Alon U (2003) Subgraphs in random networks. Phys. Rev. E 68, 026127. https://doi.org/10.1103/PhysRevE.68.026127"
   ],
   "cell_type": "markdown",
   "metadata": {}
  },
  {
   "cell_type": "code",
   "execution_count": 4,
   "metadata": {},
   "outputs": [],
   "source": [
    "import numpy as np\n",
    "import pandas as pd\n",
    "import networkx as nx\n",
    "import igraph\n",
    "from igraph import Graph as ig\n",
    "\n",
    "import matplotlib.pyplot as plt\n",
    "import seaborn as sns"
   ]
  },
  {
   "cell_type": "code",
   "execution_count": 3,
   "metadata": {},
   "outputs": [],
   "source": [
    "# ノード数\n",
    "N = 1000\n",
    "# エッジの数は2000から10000まで200ずつ増加させていく。\n",
    "L_seq = range(2000, 10000, 200)"
   ]
  },
  {
   "source": [
    "## ランダムネットワークにおける部分ネットワークのカウント   "
   ],
   "cell_type": "markdown",
   "metadata": {}
  },
  {
   "cell_type": "code",
   "execution_count": null,
   "metadata": {},
   "outputs": [],
   "source": [
    "nb_ffl_real = []# feedforward loop (FFL) の実際の数（観測値）が格納される\n",
    "nb_ffl_theory  = [] # 近似式から推定されたFFLの数（予測値）が格納される\n",
    "nb_fbl_real = []  # feedback loop (FBL) の実際の数（観測値）が格納される\n",
    "nb_fbl_theory = [] # 近似式から推定されたFBLの数（予測値）が格納される\n",
    "\n",
    "\n",
    "for L in L_seq:\n",
    "    g =  igraph.static.power.law.game(N, L, 2.1, 2.1)\n",
    "\n"
   ]
  },
  {
   "cell_type": "code",
   "execution_count": 6,
   "metadata": {},
   "outputs": [
    {
     "output_type": "error",
     "ename": "AttributeError",
     "evalue": "module 'igraph' has no attribute 'Static_Power_Law'",
     "traceback": [
      "\u001b[0;31m---------------------------------------------------------------------------\u001b[0m",
      "\u001b[0;31mAttributeError\u001b[0m                            Traceback (most recent call last)",
      "\u001b[0;32m<ipython-input-6-7f7dd978143d>\u001b[0m in \u001b[0;36m<module>\u001b[0;34m\u001b[0m\n\u001b[0;32m----> 1\u001b[0;31m \u001b[0mg\u001b[0m \u001b[0;34m=\u001b[0m  \u001b[0migraph\u001b[0m\u001b[0;34m.\u001b[0m\u001b[0mStatic_Power_Law\u001b[0m\u001b[0;34m(\u001b[0m\u001b[0mN\u001b[0m\u001b[0;34m,\u001b[0m \u001b[0;36m100\u001b[0m\u001b[0;34m,\u001b[0m \u001b[0;36m2.1\u001b[0m\u001b[0;34m,\u001b[0m \u001b[0;36m2.1\u001b[0m\u001b[0;34m)\u001b[0m\u001b[0;34m\u001b[0m\u001b[0;34m\u001b[0m\u001b[0m\n\u001b[0m",
      "\u001b[0;31mAttributeError\u001b[0m: module 'igraph' has no attribute 'Static_Power_Law'"
     ]
    }
   ],
   "source": [
    "g =  igraph.Static_Power_Law(N, 100, 2.1, 2.1)"
   ]
  },
  {
   "cell_type": "code",
   "execution_count": null,
   "metadata": {},
   "outputs": [],
   "source": []
  }
 ]
}